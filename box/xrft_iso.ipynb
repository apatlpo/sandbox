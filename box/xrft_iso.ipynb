{
 "cells": [
  {
   "cell_type": "code",
   "execution_count": 1,
   "metadata": {},
   "outputs": [],
   "source": [
    "import numpy as np\n",
    "import xarray as xr\n",
    "import dask.array as dsar\n",
    "import xrft"
   ]
  },
  {
   "cell_type": "code",
   "execution_count": 2,
   "metadata": {},
   "outputs": [],
   "source": [
    "def _synthetic_field(N, dL, amp, s):\n",
    "    \"\"\"\n",
    "    Generate a synthetic series of size N by N\n",
    "    with a spectral slope of s.\n",
    "    \"\"\"\n",
    "\n",
    "    k = np.fft.fftshift(np.fft.fftfreq(N, dL))\n",
    "    l = np.fft.fftshift(np.fft.fftfreq(N, dL))\n",
    "    kk, ll = np.meshgrid(k, l)\n",
    "    K = np.sqrt(kk**2+ll**2)\n",
    "\n",
    "    ########\n",
    "    # amplitude\n",
    "    ########\n",
    "    r_kl = np.ma.masked_invalid(np.sqrt(amp*.5*(np.pi)**(-1)\n",
    "                                *K**(s-1.))).filled(0.)\n",
    "    ########\n",
    "    # phase\n",
    "    ########\n",
    "    phi = np.zeros((N, N))\n",
    "\n",
    "    N_2 = int(N/2)\n",
    "    phi_upper_right = 2.*np.pi*np.random.random((N_2-1,\n",
    "                                                 N_2-1)) - np.pi\n",
    "    phi[N_2+1:,N_2+1:] = phi_upper_right.copy()\n",
    "    phi[1:N_2, 1:N_2] = -phi_upper_right[::-1, ::-1].copy()\n",
    "\n",
    "\n",
    "    phi_upper_left = 2.*np.pi*np.random.random((N_2-1,\n",
    "                                                N_2-1)) - np.pi\n",
    "    phi[N_2+1:,1:N_2] = phi_upper_left.copy()\n",
    "    phi[1:N_2, N_2+1:] = -phi_upper_left[::-1, ::-1].copy()\n",
    "\n",
    "\n",
    "    phi_upper_middle = 2.*np.pi*np.random.random(N_2) - np.pi\n",
    "    phi[N_2:, N_2] = phi_upper_middle.copy()\n",
    "    phi[1:N_2, N_2] = -phi_upper_middle[1:][::-1].copy()\n",
    "\n",
    "\n",
    "    phi_right_middle = 2.*np.pi*np.random.random(N_2-1) - np.pi\n",
    "    phi[N_2, N_2+1:] = phi_right_middle.copy()\n",
    "    phi[N_2, 1:N_2] = -phi_right_middle[::-1].copy()\n",
    "\n",
    "\n",
    "    phi_edge_upperleft = 2.*np.pi*np.random.random(N_2) - np.pi\n",
    "    phi[N_2:, 0] = phi_edge_upperleft.copy()\n",
    "    phi[1:N_2, 0] = -phi_edge_upperleft[1:][::-1].copy()\n",
    "\n",
    "\n",
    "    phi_bot_right = 2.*np.pi*np.random.random(N_2) - np.pi\n",
    "    phi[0, N_2:] = phi_bot_right.copy()\n",
    "    phi[0, 1:N_2] = -phi_bot_right[1:][::-1].copy()\n",
    "\n",
    "\n",
    "    phi_corner_leftbot = 2.*np.pi*np.random.random() - np.pi\n",
    "\n",
    "    for i in range(1, N_2):\n",
    "        for j in range(1, N_2):\n",
    "            assert (phi[N_2+j, N_2+i] == -phi[N_2-j, N_2-i])\n",
    "\n",
    "    for i in range(1, N_2):\n",
    "        for j in range(1, N_2):\n",
    "            assert (phi[N_2+j, N_2-i] == -phi[N_2-j, N_2+i])\n",
    "\n",
    "    for i in range(1, N_2):\n",
    "        assert (phi[N_2, N-i] == -phi[N_2, i])\n",
    "        assert (phi[N-i, N_2] == -phi[i, N_2])\n",
    "        assert (phi[N-i, 0] == -phi[i, 0])\n",
    "        assert (phi[0, i] == -phi[0, N-i])\n",
    "    #########\n",
    "    # complex fourier amplitudes\n",
    "    #########\n",
    "    F_theta = r_kl * np.exp(1j * phi)\n",
    "\n",
    "    # check that symmetry of FT is satisfied\n",
    "    theta = np.fft.ifft2(np.fft.ifftshift(F_theta))\n",
    "    return np.real(theta)"
   ]
  },
  {
   "cell_type": "code",
   "execution_count": 3,
   "metadata": {},
   "outputs": [],
   "source": [
    "def _synthetic_field_xr(N, dL, amp, s,\n",
    "                    other_dim_sizes=None, dim_order=True, \n",
    "                    chunks=None):\n",
    "    \n",
    "    theta = xr.DataArray(_synthetic_field(N, dL, amp, s),\n",
    "                        dims=['y', 'x'],\n",
    "                        coords={'y':range(N), 'x':range(N)}\n",
    "                        )\n",
    "\n",
    "    if other_dim_sizes:\n",
    "        _da = xr.DataArray(np.ones(other_dim_sizes),\n",
    "                           dims=['d%d'%i for i in range(len(other_dim_sizes))])\n",
    "        if dim_order:\n",
    "            theta = theta + _da\n",
    "        else:\n",
    "            theta = _da + theta\n",
    "            \n",
    "    if chunks:\n",
    "        theta = theta.chunk(chunks)\n",
    "\n",
    "    return theta"
   ]
  },
  {
   "cell_type": "code",
   "execution_count": 4,
   "metadata": {},
   "outputs": [
    {
     "name": "stderr",
     "output_type": "stream",
     "text": [
      "/Users/aponte/.miniconda3/envs/equinox/lib/python3.7/site-packages/ipykernel_launcher.py:16: RuntimeWarning: divide by zero encountered in power\n",
      "  app.launch_new_instance()\n"
     ]
    }
   ],
   "source": [
    "def test_isotropic_ps_slope(N=512, dL=1., amp=1e1, s=-3., **kwargs):\n",
    "    \"\"\"Test the spectral slope of isotropic power spectrum.\"\"\"\n",
    "\n",
    "    theta = _synthetic_field_xr(N, dL, amp, s, **kwargs)\n",
    "    \n",
    "    #return theta\n",
    "    iso_ps = xrft.isotropic_power_spectrum(theta, dim=['y','x'],\n",
    "                                          detrend='constant',\n",
    "                                          density=True)\n",
    "    return iso_ps, theta\n",
    "\n",
    "#test_isotropic_ps_slope(chunks={'y': None, 'x': None, 'd0': 2}, other_dim_sizes=[10], dim_order=True) # breaks\n",
    "ps, theta = test_isotropic_ps_slope(other_dim_sizes=[10], dim_order=True) # breaks"
   ]
  },
  {
   "cell_type": "code",
   "execution_count": 5,
   "metadata": {},
   "outputs": [
    {
     "data": {
      "text/html": [
       "<pre>&lt;xarray.DataArray (d0: 10, freq_r: 127)&gt;\n",
       "array([[1.82531621e+05, 6.66205642e+03, 7.46340700e+02, ...,\n",
       "        1.06886504e-04, 1.03539000e-04, 1.00277579e-04],\n",
       "       [1.82531621e+05, 6.66205642e+03, 7.46340700e+02, ...,\n",
       "        1.06886504e-04, 1.03539000e-04, 1.00277579e-04],\n",
       "       [1.82531621e+05, 6.66205642e+03, 7.46340700e+02, ...,\n",
       "        1.06886504e-04, 1.03539000e-04, 1.00277579e-04],\n",
       "       ...,\n",
       "       [1.82531621e+05, 6.66205642e+03, 7.46340700e+02, ...,\n",
       "        1.06886504e-04, 1.03539000e-04, 1.00277579e-04],\n",
       "       [1.82531621e+05, 6.66205642e+03, 7.46340700e+02, ...,\n",
       "        1.06886504e-04, 1.03539000e-04, 1.00277579e-04],\n",
       "       [1.82531621e+05, 6.66205642e+03, 7.46340700e+02, ...,\n",
       "        1.06886504e-04, 1.03539000e-04, 1.00277579e-04]])\n",
       "Coordinates:\n",
       "  * freq_r          (freq_r) float64 0.002653 0.006041 0.009854 ... 0.4921 0.496\n",
       "    freq_y_spacing  float64 0.001953\n",
       "    freq_x_spacing  float64 0.001953\n",
       "Dimensions without coordinates: d0</pre>"
      ],
      "text/plain": [
       "<xarray.DataArray (d0: 10, freq_r: 127)>\n",
       "array([[1.82531621e+05, 6.66205642e+03, 7.46340700e+02, ...,\n",
       "        1.06886504e-04, 1.03539000e-04, 1.00277579e-04],\n",
       "       [1.82531621e+05, 6.66205642e+03, 7.46340700e+02, ...,\n",
       "        1.06886504e-04, 1.03539000e-04, 1.00277579e-04],\n",
       "       [1.82531621e+05, 6.66205642e+03, 7.46340700e+02, ...,\n",
       "        1.06886504e-04, 1.03539000e-04, 1.00277579e-04],\n",
       "       ...,\n",
       "       [1.82531621e+05, 6.66205642e+03, 7.46340700e+02, ...,\n",
       "        1.06886504e-04, 1.03539000e-04, 1.00277579e-04],\n",
       "       [1.82531621e+05, 6.66205642e+03, 7.46340700e+02, ...,\n",
       "        1.06886504e-04, 1.03539000e-04, 1.00277579e-04],\n",
       "       [1.82531621e+05, 6.66205642e+03, 7.46340700e+02, ...,\n",
       "        1.06886504e-04, 1.03539000e-04, 1.00277579e-04]])\n",
       "Coordinates:\n",
       "  * freq_r          (freq_r) float64 0.002653 0.006041 0.009854 ... 0.4921 0.496\n",
       "    freq_y_spacing  float64 0.001953\n",
       "    freq_x_spacing  float64 0.001953\n",
       "Dimensions without coordinates: d0"
      ]
     },
     "execution_count": 5,
     "metadata": {},
     "output_type": "execute_result"
    }
   ],
   "source": [
    "ps"
   ]
  },
  {
   "cell_type": "code",
   "execution_count": 6,
   "metadata": {},
   "outputs": [
    {
     "name": "stderr",
     "output_type": "stream",
     "text": [
      "/Users/aponte/.miniconda3/envs/equinox/lib/python3.7/site-packages/ipykernel_launcher.py:16: RuntimeWarning: divide by zero encountered in power\n",
      "  app.launch_new_instance()\n"
     ]
    },
    {
     "data": {
      "text/plain": [
       "(<xarray.DataArray (freq_r: 127)>\n",
       " array([1.82531621e+05, 6.66205642e+03, 7.46340700e+02, 1.85415150e+02,\n",
       "        6.59866268e+01, 2.84687453e+01, 1.45499124e+01, 8.24404936e+00,\n",
       "        4.95285200e+00, 3.15117626e+00, 2.12359625e+00, 1.46886641e+00,\n",
       "        1.05014553e+00, 7.75269749e-01, 5.81121174e-01, 4.44074919e-01,\n",
       "        3.45883090e-01, 2.72326603e-01, 2.18550468e-01, 1.77939705e-01,\n",
       "        1.45682790e-01, 1.20141452e-01, 9.98975311e-02, 8.38687541e-02,\n",
       "        7.12682207e-02, 6.07114287e-02, 5.19097010e-02, 4.48590834e-02,\n",
       "        3.89114749e-02, 3.38112091e-02, 2.95755055e-02, 2.60685275e-02,\n",
       "        2.30129349e-02, 2.03469481e-02, 1.80665040e-02, 1.61202089e-02,\n",
       "        1.44481492e-02, 1.29850609e-02, 1.16773175e-02, 1.05329533e-02,\n",
       "        9.52931610e-03, 8.64517406e-03, 7.86062778e-03, 7.16582920e-03,\n",
       "        6.54811536e-03, 5.98862419e-03, 5.48264420e-03, 5.03752620e-03,\n",
       "        4.63888408e-03, 4.27930650e-03, 3.95016010e-03, 3.64667042e-03,\n",
       "        3.37461400e-03, 3.13170710e-03, 2.90897417e-03, 2.70559217e-03,\n",
       "        2.51984426e-03, 2.34880256e-03, 2.19092918e-03, 2.04700434e-03,\n",
       "        1.91545978e-03, 1.79360985e-03, 1.68157719e-03, 1.57843739e-03,\n",
       "        1.48249961e-03, 1.39383824e-03, 1.31196875e-03, 1.23609788e-03,\n",
       "        1.16561758e-03, 1.10018830e-03, 1.03930327e-03, 9.82116946e-04,\n",
       "        9.28671901e-04, 8.79320714e-04, 8.33566345e-04, 7.90350789e-04,\n",
       "        7.49574995e-04, 7.11384982e-04, 6.75726509e-04, 6.42529119e-04,\n",
       "        6.11235841e-04, 5.81800758e-04, 5.54170384e-04, 5.28036074e-04,\n",
       "        5.03385060e-04, 4.80256122e-04, 4.58537537e-04, 4.38028410e-04,\n",
       "        4.18629329e-04, 4.00124856e-04, 3.82692139e-04, 3.66186718e-04,\n",
       "        3.50598072e-04, 3.35916471e-04, 3.21980972e-04, 3.08716482e-04,\n",
       "        2.96069054e-04, 2.84040370e-04, 2.72706778e-04, 2.62055393e-04,\n",
       "        2.51788904e-04, 2.41906653e-04, 2.32636295e-04, 2.23780979e-04,\n",
       "        2.15314077e-04, 2.07317873e-04, 1.99654281e-04, 1.92273320e-04,\n",
       "        1.85243964e-04, 1.78548481e-04, 1.72199430e-04, 1.66124501e-04,\n",
       "        1.60312556e-04, 1.54732508e-04, 1.49361466e-04, 1.44254524e-04,\n",
       "        1.39395762e-04, 1.34714265e-04, 1.30214550e-04, 1.25933390e-04,\n",
       "        1.21808480e-04, 1.17841482e-04, 1.14038518e-04, 1.10374861e-04,\n",
       "        1.06886504e-04, 1.03539000e-04, 1.00277579e-04])\n",
       " Coordinates:\n",
       "   * freq_r          (freq_r) float64 0.002653 0.006041 0.009854 ... 0.4921 0.496\n",
       "     freq_y_spacing  float64 0.001953\n",
       "     freq_x_spacing  float64 0.001953,\n",
       " <xarray.DataArray (y: 512, x: 512)>\n",
       " array([[3.69449393, 3.69759845, 3.75310983, ..., 3.54661447, 3.6341362 ,\n",
       "         3.69600775],\n",
       "        [3.80402835, 3.83723638, 3.83514424, ..., 3.64054659, 3.71888063,\n",
       "         3.7782001 ],\n",
       "        [3.87300424, 3.8894292 , 3.9158564 , ..., 3.73263453, 3.79865772,\n",
       "         3.84505813],\n",
       "        ...,\n",
       "        [3.57887705, 3.55640267, 3.5815282 , ..., 3.28689376, 3.427317  ,\n",
       "         3.53478434],\n",
       "        [3.64684959, 3.66019765, 3.69021786, ..., 3.34749164, 3.47898298,\n",
       "         3.60979725],\n",
       "        [3.63881493, 3.64503875, 3.70446758, ..., 3.45808466, 3.58072196,\n",
       "         3.64812964]])\n",
       " Coordinates:\n",
       "   * y        (y) int64 0 1 2 3 4 5 6 7 8 ... 503 504 505 506 507 508 509 510 511\n",
       "   * x        (x) int64 0 1 2 3 4 5 6 7 8 ... 503 504 505 506 507 508 509 510 511)"
      ]
     },
     "execution_count": 6,
     "metadata": {},
     "output_type": "execute_result"
    }
   ],
   "source": [
    "test_isotropic_ps_slope()"
   ]
  },
  {
   "cell_type": "code",
   "execution_count": 7,
   "metadata": {},
   "outputs": [
    {
     "name": "stderr",
     "output_type": "stream",
     "text": [
      "/Users/aponte/.miniconda3/envs/equinox/lib/python3.7/site-packages/ipykernel_launcher.py:16: RuntimeWarning: divide by zero encountered in power\n",
      "  app.launch_new_instance()\n"
     ]
    },
    {
     "data": {
      "text/plain": [
       "(<xarray.DataArray 'rechunk-merge-2164fc1ea9b434b9b8fee016fe9bde8e' (freq_r: 127)>\n",
       " dask.array<getitem, shape=(127,), dtype=float64, chunksize=(1,), chunktype=numpy.ndarray>\n",
       " Coordinates:\n",
       "   * freq_r          (freq_r) float64 0.002653 0.006041 0.009854 ... 0.4921 0.496\n",
       "     freq_y_spacing  float64 0.001953\n",
       "     freq_x_spacing  float64 0.001953,\n",
       " <xarray.DataArray (y: 512, x: 512)>\n",
       " dask.array<xarray-<this-array>, shape=(512, 512), dtype=float64, chunksize=(512, 512), chunktype=numpy.ndarray>\n",
       " Coordinates:\n",
       "   * y        (y) int64 0 1 2 3 4 5 6 7 8 ... 503 504 505 506 507 508 509 510 511\n",
       "   * x        (x) int64 0 1 2 3 4 5 6 7 8 ... 503 504 505 506 507 508 509 510 511)"
      ]
     },
     "execution_count": 7,
     "metadata": {},
     "output_type": "execute_result"
    }
   ],
   "source": [
    "test_isotropic_ps_slope(chunks={'y': None, 'x': None})"
   ]
  },
  {
   "cell_type": "code",
   "execution_count": 8,
   "metadata": {},
   "outputs": [
    {
     "name": "stderr",
     "output_type": "stream",
     "text": [
      "/Users/aponte/.miniconda3/envs/equinox/lib/python3.7/site-packages/ipykernel_launcher.py:16: RuntimeWarning: divide by zero encountered in power\n",
      "  app.launch_new_instance()\n"
     ]
    },
    {
     "data": {
      "text/plain": [
       "(<xarray.DataArray 'rechunk-merge-8cab963273e4ded25ecb98172abfa2f5' (d0: 2, freq_r: 127)>\n",
       " dask.array<getitem, shape=(2, 127), dtype=float64, chunksize=(2, 1), chunktype=numpy.ndarray>\n",
       " Coordinates:\n",
       "   * freq_r          (freq_r) float64 0.002653 0.006041 0.009854 ... 0.4921 0.496\n",
       "     freq_y_spacing  float64 0.001953\n",
       "     freq_x_spacing  float64 0.001953\n",
       " Dimensions without coordinates: d0,\n",
       " <xarray.DataArray (y: 512, x: 512, d0: 2)>\n",
       " dask.array<xarray-<this-array>, shape=(512, 512, 2), dtype=float64, chunksize=(512, 512, 2), chunktype=numpy.ndarray>\n",
       " Coordinates:\n",
       "   * y        (y) int64 0 1 2 3 4 5 6 7 8 ... 503 504 505 506 507 508 509 510 511\n",
       "   * x        (x) int64 0 1 2 3 4 5 6 7 8 ... 503 504 505 506 507 508 509 510 511\n",
       " Dimensions without coordinates: d0)"
      ]
     },
     "execution_count": 8,
     "metadata": {},
     "output_type": "execute_result"
    }
   ],
   "source": [
    "test_isotropic_ps_slope(other_dim_sizes=[2], chunks={'d0': 2})"
   ]
  },
  {
   "cell_type": "code",
   "execution_count": 9,
   "metadata": {},
   "outputs": [
    {
     "name": "stderr",
     "output_type": "stream",
     "text": [
      "/Users/aponte/.miniconda3/envs/equinox/lib/python3.7/site-packages/ipykernel_launcher.py:16: RuntimeWarning: divide by zero encountered in power\n",
      "  app.launch_new_instance()\n"
     ]
    },
    {
     "data": {
      "text/plain": [
       "(<xarray.DataArray 'rechunk-merge-999eebe04b5f1b9861c484a59c791fc1' (d0: 10, freq_r: 127)>\n",
       " dask.array<getitem, shape=(10, 127), dtype=float64, chunksize=(2, 1), chunktype=numpy.ndarray>\n",
       " Coordinates:\n",
       "   * freq_r          (freq_r) float64 0.002653 0.006041 0.009854 ... 0.4921 0.496\n",
       "     freq_y_spacing  float64 0.001953\n",
       "     freq_x_spacing  float64 0.001953\n",
       " Dimensions without coordinates: d0,\n",
       " <xarray.DataArray (d0: 10, y: 512, x: 512)>\n",
       " dask.array<xarray-<this-array>, shape=(10, 512, 512), dtype=float64, chunksize=(2, 512, 512), chunktype=numpy.ndarray>\n",
       " Coordinates:\n",
       "   * y        (y) int64 0 1 2 3 4 5 6 7 8 ... 503 504 505 506 507 508 509 510 511\n",
       "   * x        (x) int64 0 1 2 3 4 5 6 7 8 ... 503 504 505 506 507 508 509 510 511\n",
       " Dimensions without coordinates: d0)"
      ]
     },
     "execution_count": 9,
     "metadata": {},
     "output_type": "execute_result"
    }
   ],
   "source": [
    "test_isotropic_ps_slope(other_dim_sizes=[10], chunks={'d0': 2}, dim_order=False)"
   ]
  },
  {
   "cell_type": "code",
   "execution_count": 10,
   "metadata": {},
   "outputs": [
    {
     "name": "stderr",
     "output_type": "stream",
     "text": [
      "/Users/aponte/.miniconda3/envs/equinox/lib/python3.7/site-packages/ipykernel_launcher.py:16: RuntimeWarning: divide by zero encountered in power\n",
      "  app.launch_new_instance()\n"
     ]
    },
    {
     "data": {
      "text/plain": [
       "(<xarray.DataArray 'rechunk-merge-7db83f14b7a8f8c86b349dab86f2137e' (d0: 10, freq_r: 127)>\n",
       " dask.array<getitem, shape=(10, 127), dtype=float64, chunksize=(2, 1), chunktype=numpy.ndarray>\n",
       " Coordinates:\n",
       "   * freq_r          (freq_r) float64 0.002653 0.006041 0.009854 ... 0.4921 0.496\n",
       "     freq_y_spacing  float64 0.001953\n",
       "     freq_x_spacing  float64 0.001953\n",
       " Dimensions without coordinates: d0,\n",
       " <xarray.DataArray (y: 512, x: 512, d0: 10)>\n",
       " dask.array<xarray-<this-array>, shape=(512, 512, 10), dtype=float64, chunksize=(512, 512, 2), chunktype=numpy.ndarray>\n",
       " Coordinates:\n",
       "   * y        (y) int64 0 1 2 3 4 5 6 7 8 ... 503 504 505 506 507 508 509 510 511\n",
       "   * x        (x) int64 0 1 2 3 4 5 6 7 8 ... 503 504 505 506 507 508 509 510 511\n",
       " Dimensions without coordinates: d0)"
      ]
     },
     "execution_count": 10,
     "metadata": {},
     "output_type": "execute_result"
    }
   ],
   "source": [
    "test_isotropic_ps_slope(chunks={'y': None, 'x': None, 'd0': 2}, other_dim_sizes=[10], dim_order=True)"
   ]
  },
  {
   "cell_type": "code",
   "execution_count": null,
   "metadata": {},
   "outputs": [],
   "source": []
  }
 ],
 "metadata": {
  "kernelspec": {
   "display_name": "Python 3",
   "language": "python",
   "name": "python3"
  },
  "language_info": {
   "codemirror_mode": {
    "name": "ipython",
    "version": 3
   },
   "file_extension": ".py",
   "mimetype": "text/x-python",
   "name": "python",
   "nbconvert_exporter": "python",
   "pygments_lexer": "ipython3",
   "version": "3.7.6"
  }
 },
 "nbformat": 4,
 "nbformat_minor": 4
}
